{
 "cells": [
  {
   "cell_type": "markdown",
   "metadata": {
    "slideshow": {
     "slide_type": "slide"
    }
   },
   "source": [
    "## Project 2: Building a NLP-based doctor chatbot"
   ]
  },
  {
   "cell_type": "markdown",
   "metadata": {
    "slideshow": {
     "slide_type": "slide"
    }
   },
   "source": [
    "Dataset: NLP Mental Health Conversations https://www.kaggle.com/datasets/thedevastator/nlp-mental-health-conversations\n",
    "\n",
    "Goal: build a doctor chatbot based on the dataset above.\n",
    "\n",
    "- Problem 1: How well LSTM and GRU is better than the basic RNN model? \n",
    "- Problem 2: Benchmark an LLM with LSTM and GRU model.\n",
    "\n",
    "__Note__:Prepare data (train and test dataset spliting). Next build LSTM, GRU and RNN model. Plus, you are required to sketch your architecture design and describe the results in the report.\n",
    "\n",
    "Deadline (February 19 2024)"
   ]
  },
  {
   "cell_type": "code",
   "execution_count": null,
   "metadata": {},
   "outputs": [],
   "source": []
  },
  {
   "cell_type": "code",
   "execution_count": null,
   "metadata": {},
   "outputs": [],
   "source": []
  }
 ],
 "metadata": {
  "celltoolbar": "Slideshow",
  "kernelspec": {
   "display_name": "Python 3 (ipykernel)",
   "language": "python",
   "name": "python3"
  },
  "language_info": {
   "codemirror_mode": {
    "name": "ipython",
    "version": 3
   },
   "file_extension": ".py",
   "mimetype": "text/x-python",
   "name": "python",
   "nbconvert_exporter": "python",
   "pygments_lexer": "ipython3",
   "version": "3.11.5"
  },
  "latex_metadata": {
   "author": "Leonardo Espinosa",
   "title": "MLPP: Supervised Learning"
  },
  "livereveal": {
   "overlay": "<div class='myheader'><h2 class='headertekst'>Machine Learning for Predictive Problems. Big Data Analytics Specialization <img src='./images/00_arcada.png' width='200' height='50'></img></h2><h3 ><a href='#/3/1'>(index)</a></h3></div>",
   "progress": true,
   "scroll": true,
   "theme": "serif",
   "transition": "simple"
  }
 },
 "nbformat": 4,
 "nbformat_minor": 4
}
